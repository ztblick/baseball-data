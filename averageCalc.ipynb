{
 "cells": [
  {
   "cell_type": "code",
   "execution_count": 2,
   "id": "000f6149-9254-4072-bce1-37bb0c0dc48d",
   "metadata": {},
   "outputs": [],
   "source": [
    "import pandas as pd\n",
    "import requests\n",
    "import numpy as np\n",
    "import statsapi"
   ]
  },
  {
   "cell_type": "code",
   "execution_count": 23,
   "id": "58d86929-a876-47c6-a2ab-29939ee83471",
   "metadata": {},
   "outputs": [
    {
     "data": {
      "text/plain": [
       "0.9564817154725723"
      ]
     },
     "execution_count": 23,
     "metadata": {},
     "output_type": "execute_result"
    }
   ],
   "source": [
    "prevBattingData = pd.read_csv(\"22-24 Batting Data.csv\")\n",
    "\n",
    "avg_batscore = 0.0\n",
    "num_players = len(prevBattingData)\n",
    "\n",
    "avg_atBats = 0.0\n",
    "avg_avg = 0.0\n",
    "avg_games = 0.0\n",
    "\n",
    "for index in prevBattingData['ab']:\n",
    "    avg_atBats += float(index)\n",
    "avg_atBats = avg_atBats / num_players\n",
    "\n",
    "for index in prevBattingData['batting_avg']:\n",
    "    avg_avg += float(index)\n",
    "avg_avg = avg_avg / num_players\n",
    "\n",
    "for index in prevBattingData['b_game']:\n",
    "    avg_games += float(index)\n",
    "avg_games = avg_games / num_players\n",
    "\n",
    "\n",
    "avg_batscore += avg_atBats / avg_games * avg_avg\n",
    "\n",
    "avg_batscore"
   ]
  },
  {
   "cell_type": "code",
   "execution_count": 25,
   "id": "32323922-c067-46c2-9c2a-02b3fa8bfcc8",
   "metadata": {},
   "outputs": [
    {
     "data": {
      "text/plain": [
       "8.34410107397728"
      ]
     },
     "execution_count": 25,
     "metadata": {},
     "output_type": "execute_result"
    }
   ],
   "source": [
    "prevPitchingData = pd.read_csv(\"22-24 Pitching Data.csv\")\n",
    "\n",
    "avg_HP9 = 0.0\n",
    "num_players = len(prevPitchingData)\n",
    "\n",
    "avg_hits = 0.0\n",
    "avg_ip = 0.0\n",
    "\n",
    "for index in prevPitchingData['hit']:\n",
    "    avg_hits += float(index)\n",
    "avg_hits = avg_hits / num_players\n",
    "\n",
    "for index in prevPitchingData['p_formatted_ip']:\n",
    "    avg_ip += float(index)\n",
    "avg_ip = avg_ip / num_players\n",
    "\n",
    "\n",
    "avg_HP9 = avg_hits / avg_ip * 9\n",
    "avg_HP9"
   ]
  },
  {
   "cell_type": "code",
   "execution_count": null,
   "id": "3403d6f3-dfdc-4277-9cda-45462a24b872",
   "metadata": {},
   "outputs": [],
   "source": []
  }
 ],
 "metadata": {
  "kernelspec": {
   "display_name": "Python 3 (ipykernel)",
   "language": "python",
   "name": "python3"
  },
  "language_info": {
   "codemirror_mode": {
    "name": "ipython",
    "version": 3
   },
   "file_extension": ".py",
   "mimetype": "text/x-python",
   "name": "python",
   "nbconvert_exporter": "python",
   "pygments_lexer": "ipython3",
   "version": "3.9.6"
  }
 },
 "nbformat": 4,
 "nbformat_minor": 5
}
